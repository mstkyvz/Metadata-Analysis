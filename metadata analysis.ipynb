{
  "nbformat": 4,
  "nbformat_minor": 0,
  "metadata": {
    "colab": {
      "provenance": []
    },
    "kernelspec": {
      "name": "python3",
      "display_name": "Python 3"
    },
    "language_info": {
      "name": "python"
    }
  },
  "cells": [
    {
      "cell_type": "code",
      "execution_count": null,
      "metadata": {
        "id": "-1_ZtBjNF2Pe"
      },
      "outputs": [],
      "source": [
        "import PIL.Image\n",
        "\n",
        "img = PIL.Image.open(\"resim1.jpg\")\n",
        "\n",
        "print(img._getexif())"
      ]
    },
    {
      "cell_type": "code",
      "source": [
        "import PIL.ExifTags\n",
        "\n",
        "exif = {PIL.ExifTags.TAGS[key]: value for key, value in img._getexif().items() if key in PIL.ExifTags.TAGS}\n",
        "\n",
        "exif"
      ],
      "metadata": {
        "id": "G-ufeptqF2tU"
      },
      "execution_count": null,
      "outputs": []
    },
    {
      "cell_type": "code",
      "source": [
        "resim2 = PIL.Image.open(\"e_resim1.jpg\")\n",
        "\n",
        "exif2 = {PIL.ExifTags.TAGS[key]: value for key, value in img._getexif().items() if key in PIL.ExifTags.TAGS}\n",
        "\n",
        "exif2"
      ],
      "metadata": {
        "id": "aVYFfqOYGzkt"
      },
      "execution_count": null,
      "outputs": []
    },
    {
      "cell_type": "code",
      "source": [
        "import piexif\n",
        "\n",
        "exif_dict = piexif.load(\"e_resim1.jpg\")\n",
        "\n",
        "exif_dict"
      ],
      "metadata": {
        "id": "-RZAtC8jHfA0"
      },
      "execution_count": null,
      "outputs": []
    }
  ]
}